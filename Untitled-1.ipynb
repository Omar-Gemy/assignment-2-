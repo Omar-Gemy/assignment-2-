{
 "cells": [
  {
   "cell_type": "markdown",
   "metadata": {},
   "source": [
    "Assignment (2)"
   ]
  },
  {
   "cell_type": "markdown",
   "metadata": {},
   "source": [
    "Part 1: Lists and List Slicing (20 points) \n",
    "1. (10 points) Create a list of 10 integers ranging from 1 to 20. Then, do the following: \n",
    "o Extract and print the first 5 elements of the list. \n",
    "o Extract and print the last 3 elements using negative indexing. \n",
    "o Extract and print all elements from index 3 to index 7. \n",
    "2. (10 points) Write a Python program that: \n",
    "o Creates a list of 5 different fruits. \n",
    "o Add two more fruits to the list. \n",
    "o Remove the last fruit in the list. \n",
    "o Print the updated list. "
   ]
  },
  {
   "cell_type": "code",
   "execution_count": null,
   "metadata": {},
   "outputs": [
    {
     "name": "stdout",
     "output_type": "stream",
     "text": [
      "[1, 2, 3, 4, 5]\n",
      "[8, 9, 10]\n",
      "[4, 5, 6, 7]\n"
     ]
    }
   ],
   "source": [
    "#part (1) (1)\n",
    "list1=[1,2,3,4,5,6,7,8,9,10]\n",
    "print(list1[0:5])\n",
    "print(list1[-3:])\n",
    "print(list1[3:7])"
   ]
  },
  {
   "cell_type": "code",
   "execution_count": 12,
   "metadata": {},
   "outputs": [
    {
     "name": "stdout",
     "output_type": "stream",
     "text": [
      "['banana', 'pineapple', 'tomato', 'grapefruite', 'apple', 'orange']\n"
     ]
    }
   ],
   "source": [
    "#part(1)(2)\n",
    "list1=[\"banana\",\"pineapple\",\"tomato\",\"grapefruite\",\"apple\"]\n",
    "list1.append(\"orange\")\n",
    "list1.append(\"coconut\")\n",
    "list1.pop()\n",
    "print(list1)\n"
   ]
  },
  {
   "cell_type": "markdown",
   "metadata": {},
   "source": [
    "Part 2: Tuples and Dictionaries (30 points) \n",
    "3. (10 points) \n",
    "o Create a tuple that contains 5 different cities. \n",
    "o Access and print the second city in the tuple. \n",
    "o Try to change the value of the second city in the tuple and explain why it does \n",
    "not work. \n",
    "4. (10 points) Write a Python program that creates a dictionary with the following keys and \n",
    "values: \n",
    "o 'name': 'John', 'age': 30, 'city': 'New York'. Then: \n",
    "o Print the value of the 'age' key. \n",
    "o Add a new key-value pair 'job': 'Engineer' to the dictionary. \n",
    "o Remove the 'city' key and print the updated dictionary. \n",
    "5. (10 points) Write a Python program that: \n",
    "o Creates a dictionary to store the names and ages of 3 people. \n",
    "o Print each person's name and their corresponding age using a loop. \n"
   ]
  },
  {
   "cell_type": "code",
   "execution_count": null,
   "metadata": {},
   "outputs": [
    {
     "name": "stdout",
     "output_type": "stream",
     "text": [
      "tokyo\n"
     ]
    }
   ],
   "source": [
    "#part(2) (3)\n",
    "tuple1=(\"cairo\",\"tokyo\",\"newyourk\",\"giza\",\"makka\")\n",
    "print(tuple1[1])\n",
    "#I cant change or update the tuple"
   ]
  },
  {
   "cell_type": "code",
   "execution_count": null,
   "metadata": {},
   "outputs": [
    {
     "name": "stdout",
     "output_type": "stream",
     "text": [
      "30\n"
     ]
    }
   ],
   "source": [
    "#part(2) (4)\n",
    "dictionary1={'name': 'John', 'age': 30, 'city': 'New York'}\n",
    "print(dictionary1[\"age\"])\n",
    "dictionary1[\"jop\"]=\"Engineer\"\n",
    "del(dictionary1[\"city\"])"
   ]
  },
  {
   "cell_type": "code",
   "execution_count": null,
   "metadata": {},
   "outputs": [
    {
     "name": "stdout",
     "output_type": "stream",
     "text": [
      "yami  :  25\n",
      "rengoku  :  21\n",
      "johan  :  22\n"
     ]
    }
   ],
   "source": [
    "#part(2) (5)\n",
    "dictionary1={\"yami\": 25,\n",
    "    \"rengoku\": 21,\n",
    "    \"johan\": 22}\n",
    "for person in dictionary1 :\n",
    "    print (person , \" : \" , dictionary1[person] )"
   ]
  },
  {
   "cell_type": "markdown",
   "metadata": {},
   "source": [
    "Part 3: Conditional Statements (30 points) \n",
    "6. (10 points) Write a Python program that takes the user's age as input and prints: \n",
    "o 'Adult' if the age is 18 or older. \n",
    "o 'Minor' if the age is less than 18. \n",
    "7. (10 points) Write a Python program that checks if a number entered by the user is: \n",
    "o 'Even' if it is divisible by 2. \n",
    "o 'Odd' if it is not divisible by 2. \n",
    "You must use an if-else statement for this task. \n",
    "8. (10 points) Write a Python program that: \n",
    "o Takes a score from the user and prints the grade based on the following criteria: \n",
    "▪ 90 and above: 'A' \n",
    "▪ 70-89: 'B' \n",
    "▪ 50-69: 'C' \n",
    "▪ Below 50: 'F'"
   ]
  },
  {
   "cell_type": "code",
   "execution_count": 3,
   "metadata": {},
   "outputs": [
    {
     "name": "stdout",
     "output_type": "stream",
     "text": [
      "Adult\n"
     ]
    }
   ],
   "source": [
    "#part(3) (6)\n",
    "age = int(input(\"please enter your age : \"))\n",
    "if age >= 18 :\n",
    "    print('Adult')\n",
    "else :\n",
    "    print('Minor')"
   ]
  },
  {
   "cell_type": "code",
   "execution_count": 7,
   "metadata": {},
   "outputs": [
    {
     "name": "stdout",
     "output_type": "stream",
     "text": [
      "Even\n"
     ]
    }
   ],
   "source": [
    "#part(3) (7)\n",
    "number = int(input (\"please enter a nimber : \"))\n",
    "if number % 2 == 0 :\n",
    "    print('Even')\n",
    "else :\n",
    "    print(\"odd\")"
   ]
  },
  {
   "cell_type": "code",
   "execution_count": 14,
   "metadata": {},
   "outputs": [
    {
     "name": "stdout",
     "output_type": "stream",
     "text": [
      "F\n"
     ]
    }
   ],
   "source": [
    "#part(3) (8)\n",
    "score = int(input(\"please enter your score : \"))\n",
    "if score >= 90 :print ('A') \n",
    "elif score > 70 and score < 90: print('B') \n",
    "elif score>50 and score<69:print('C') \n",
    "else :print('F')\n"
   ]
  },
  {
   "cell_type": "markdown",
   "metadata": {},
   "source": [
    "Part 4: Loops (30 points) \n",
    "9. (10 points) Write a Python program that uses a for loop to print all even numbers \n",
    "between 1 and 20. \n",
    "10. (10 points) Write a Python program that uses a while loop to print the numbers from 10 \n",
    "to 1, in descending order. \n",
    "11. (10 points) Write a Python program that: \n",
    "• Asks the user to input a number. \n",
    "• Then, using a for loop, calculates the sum of all numbers from 1 to the entered number \n",
    "(inclusive) and prints the result."
   ]
  },
  {
   "cell_type": "code",
   "execution_count": 16,
   "metadata": {},
   "outputs": [
    {
     "name": "stdout",
     "output_type": "stream",
     "text": [
      "[0, 2, 4, 6, 8, 10, 12, 14, 16, 18]\n"
     ]
    }
   ],
   "source": [
    "#part(4) (9)\n",
    "print ([num for num in range (20) if num % 2 == 0])"
   ]
  },
  {
   "cell_type": "code",
   "execution_count": 17,
   "metadata": {},
   "outputs": [
    {
     "name": "stdout",
     "output_type": "stream",
     "text": [
      "10\n",
      "9\n",
      "8\n",
      "7\n",
      "6\n",
      "5\n",
      "4\n",
      "3\n",
      "2\n",
      "1\n"
     ]
    }
   ],
   "source": [
    "#part(4) (10)\n",
    "num = 10\n",
    "while num !=0:\n",
    "    print (num)\n",
    "    num-=1"
   ]
  },
  {
   "cell_type": "code",
   "execution_count": 22,
   "metadata": {},
   "outputs": [
    {
     "name": "stdout",
     "output_type": "stream",
     "text": [
      "result is 10\n"
     ]
    }
   ],
   "source": [
    "#part(4) (11)\n",
    "number = int(input (\"please enter a number : \"))\n",
    "result = 0\n",
    "for num in range (number+1):\n",
    "    result = result + num \n",
    "print(f\"result is {result}\")"
   ]
  },
  {
   "cell_type": "markdown",
   "metadata": {},
   "source": [
    "Part 5: Input Function and User Interaction (20 points) \n",
    "12. (10 points) Write a Python program that asks the user for their name and age, then prints \n",
    "a message saying: \"Hello, [name]! You are [age] years old.\" \n",
    "13. (10 points) Write a Python program that asks the user for their favorite color and checks \n",
    "if it is 'blue'. If it is, print \"You have great taste!\", otherwise print \"That's a \n",
    "nice color too!\" \n"
   ]
  },
  {
   "cell_type": "code",
   "execution_count": 23,
   "metadata": {},
   "outputs": [
    {
     "name": "stdout",
     "output_type": "stream",
     "text": [
      "Hello, omar gamal! You are 20 years old.\n"
     ]
    }
   ],
   "source": [
    "#part(5) (12)\n",
    "age = int(input (\"please enter a number : \"))\n",
    "name = input (\"please enter your name : \")\n",
    "print(f\"Hello, {name}! You are {age} years old.\")"
   ]
  },
  {
   "cell_type": "code",
   "execution_count": 28,
   "metadata": {},
   "outputs": [
    {
     "name": "stdout",
     "output_type": "stream",
     "text": [
      "You have great taste!\n"
     ]
    }
   ],
   "source": [
    "#part(5) (13)\n",
    "colur=input (\"plaese enter your favorite colur\")\n",
    "if colur.lower()=='blue' :\n",
    "    print (\"You have great taste!\")\n",
    "else :\n",
    "    print (\"That's a nice color too!\" )\n"
   ]
  },
  {
   "cell_type": "markdown",
   "metadata": {},
   "source": [
    "Bonus Question (10 points) \n",
    "14. (10 points) Write a Python program that asks the user to enter a list of 5 numbers. \n",
    "Then: \n",
    "• Calculate and print the average of the numbers. \n",
    "• Print the largest and smallest numbers from the list."
   ]
  },
  {
   "cell_type": "code",
   "execution_count": 26,
   "metadata": {},
   "outputs": [
    {
     "name": "stdout",
     "output_type": "stream",
     "text": [
      "average of the number is :  3.0\n",
      "the max number is :  5\n",
      "the min number is :  1\n"
     ]
    }
   ],
   "source": [
    "#bounus question \n",
    "numbers = []\n",
    "for _ in range(5):\n",
    "    num = int(input(\"Enter an integer: \"))\n",
    "    numbers.append(num)\n",
    "total =sum(numbers)\n",
    "avg=total/len(numbers)\n",
    "print(\"average of the number is : \",avg)\n",
    "print(\"the max number is : \",max(numbers))\n",
    "print(\"the min number is : \",min(numbers))"
   ]
  },
  {
   "cell_type": "code",
   "execution_count": 2,
   "metadata": {},
   "outputs": [
    {
     "name": "stdout",
     "output_type": "stream",
     "text": [
      "hello Mr omar \n"
     ]
    }
   ],
   "source": [
    "def hello(name):\n",
    "    print(f\"hello Mr {name} \")\n",
    "hello (\"omar\")"
   ]
  },
  {
   "cell_type": "code",
   "execution_count": 3,
   "metadata": {},
   "outputs": [
    {
     "name": "stdout",
     "output_type": "stream",
     "text": [
      "10\n"
     ]
    }
   ],
   "source": [
    "def maximum (numberes) :\n",
    "    return print (max(numberes))\n",
    "maximum([1,3,9,2,7,10])"
   ]
  },
  {
   "cell_type": "code",
   "execution_count": 7,
   "metadata": {},
   "outputs": [
    {
     "name": "stdout",
     "output_type": "stream",
     "text": [
      "Name: Ahmed, Salary: 5000\n",
      "Name: Sara, Salary: 10000\n",
      "Team Size: 5\n"
     ]
    }
   ],
   "source": [
    "class Employee:\n",
    "    def __init__(self, name, salary):\n",
    "        self.name = name\n",
    "        self.salary = salary\n",
    " \n",
    "    def show_details(self):\n",
    "        print(f\"Name: {self.name}, Salary: {self.salary}\")\n",
    " \n",
    "class Manager(Employee):\n",
    "    def __init__(self, name, salary, team_size):\n",
    "        super().__init__(name, salary)  \n",
    "        self.team_size = team_size\n",
    " \n",
    "    def show_details(self):\n",
    "        super().show_details()\n",
    "        print(f\"Team Size: {self.team_size}\")\n",
    " \n",
    " \n",
    "employee = Employee(\"Ahmed\", 5000)\n",
    "manager = Manager(\"Sara\", 10000, 5)\n",
    " \n",
    " \n",
    "employee.show_details()\n",
    "# Output: Name: Ahmed, Salary: 5000\n",
    " \n",
    "manager.show_details()\n",
    "# Output:\n",
    "# Name: Sara, Salary: 10000\n",
    "# Team Size: 5\n",
    " "
   ]
  }
 ],
 "metadata": {
  "kernelspec": {
   "display_name": "Python 3",
   "language": "python",
   "name": "python3"
  },
  "language_info": {
   "codemirror_mode": {
    "name": "ipython",
    "version": 3
   },
   "file_extension": ".py",
   "mimetype": "text/x-python",
   "name": "python",
   "nbconvert_exporter": "python",
   "pygments_lexer": "ipython3",
   "version": "3.13.0"
  }
 },
 "nbformat": 4,
 "nbformat_minor": 2
}
